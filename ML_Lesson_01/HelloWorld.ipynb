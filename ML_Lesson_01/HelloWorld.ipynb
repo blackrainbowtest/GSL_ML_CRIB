{
 "cells": [
  {
   "cell_type": "code",
   "execution_count": 24,
   "id": "0c46d595-30ab-4dd3-a135-7b8d134e7605",
   "metadata": {},
   "outputs": [],
   "source": [
    "# Упрощаем код для визуализации\n",
    "import pandas as pd\n",
    "from sklearn.tree import DecisionTreeClassifier\n",
    "# обект tree имеет метод для вывода в графическом формате\n",
    "from sklearn import tree\n",
    "\n",
    "# Импортируем набор данных\n",
    "music_data = pd.read_csv('music.csv')\n",
    "# Создаем наборы входных и выходных данных (imput and outout datasets)\n",
    "X = music_data.drop(columns=['genre'])\n",
    "y = music_data['genre']\n",
    "\n",
    "# Создаем модель\n",
    "model = DecisionTreeClassifier()\n",
    "# Обучаем\n",
    "model.fit(X, y)\n",
    "\n",
    "# После обучения модели вызываем\n",
    "tree.export_graphviz(model, out_file='music-recommender.dot',\n",
    "                            feature_names=['age', 'gender'],\n",
    "                            class_names=sorted(y.unique()),\n",
    "                            label = 'all',\n",
    "                            rounded=True,\n",
    "                            filled=True)"
   ]
  },
  {
   "cell_type": "code",
   "execution_count": null,
   "id": "22111526-fbbc-487f-ae9b-3daa4222c18d",
   "metadata": {},
   "outputs": [],
   "source": []
  }
 ],
 "metadata": {
  "kernelspec": {
   "display_name": "Python 3 (ipykernel)",
   "language": "python",
   "name": "python3"
  },
  "language_info": {
   "codemirror_mode": {
    "name": "ipython",
    "version": 3
   },
   "file_extension": ".py",
   "mimetype": "text/x-python",
   "name": "python",
   "nbconvert_exporter": "python",
   "pygments_lexer": "ipython3",
   "version": "3.11.7"
  }
 },
 "nbformat": 4,
 "nbformat_minor": 5
}
